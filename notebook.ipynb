{
 "cells": [
  {
   "cell_type": "markdown",
   "metadata": {},
   "source": [
    "# FindFlights\n",
    "\n",
    "Simple algorithm to find the cheapest flight for our vacations, in a matter of seconds.\n",
    "\n",
    "Inputs:\n",
    "- a list of departure cities\n",
    "- a list of arrival cities\n",
    "- earliest departure date\n",
    "- latest return date\n",
    "\n",
    "Algorithm:\n",
    "- for each departure city\n",
    "  - for each arrival city\n",
    "    - for each departure date\n",
    "      - for each return date\n",
    "        - find the cheapest flight\n",
    "        - store the flight\n",
    "\n",
    "Output:\n",
    "- A list of 10 flights sorted by price"
   ]
  },
  {
   "cell_type": "code",
   "execution_count": 1,
   "metadata": {},
   "outputs": [],
   "source": [
    "from serpapi import GoogleSearch"
   ]
  }
 ],
 "metadata": {
  "kernelspec": {
   "display_name": "FindFlights",
   "language": "python",
   "name": "python3"
  },
  "language_info": {
   "codemirror_mode": {
    "name": "ipython",
    "version": 3
   },
   "file_extension": ".py",
   "mimetype": "text/x-python",
   "name": "python",
   "nbconvert_exporter": "python",
   "pygments_lexer": "ipython3",
   "version": "3.12.3"
  }
 },
 "nbformat": 4,
 "nbformat_minor": 2
}
